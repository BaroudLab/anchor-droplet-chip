{
 "cells": [
  {
   "cell_type": "code",
   "execution_count": 1,
   "id": "facd7084-2972-44b6-836b-acd4dc59d4b2",
   "metadata": {},
   "outputs": [],
   "source": [
    "from zarr_tools import convert\n",
    "import nd2\n",
    "import os\n",
    "import dask.array as da\n",
    "from glob import glob\n",
    "from collections import OrderedDict\n",
    "import asyncio\n",
    "import numpy as np"
   ]
  },
  {
   "cell_type": "code",
   "execution_count": 4,
   "id": "57fba700-b7b6-457f-8a83-b0d2c02ebaf3",
   "metadata": {},
   "outputs": [
    {
     "data": {
      "text/plain": [
       "['/home/aaristov/Multicell/Lena/new_data/E.coli/Timelapse/20230427-ecoli/set1Tetra/TRITC-3D.nd2',\n",
       " '/home/aaristov/Multicell/Lena/new_data/E.coli/Timelapse/20230425-ecoli/NoAB/TRITC-3D-20min.nd2',\n",
       " '/home/aaristov/Multicell/Lena/new_data/E.coli/Timelapse/20230425-ecoli/set1NoAB/TRITC-3D-20min.nd2',\n",
       " '/home/aaristov/Multicell/Lena/new_data/E.coli/Timelapse/20230426-ecoli/set2CHP/TRITC.nd2',\n",
       " '/home/aaristov/Multicell/Lena/new_data/E.coli/Timelapse/20230426-ecoli/set2CHP/TRITC-3D.nd2',\n",
       " '/home/aaristov/Multicell/Lena/new_data/E.coli/Timelapse/20230426-ecoli/set1Genta/TRITC-24H.nd2',\n",
       " '/home/aaristov/Multicell/Lena/new_data/E.coli/Timelapse/20230426-ecoli/set1Genta/TRITC-3D.nd2']"
      ]
     },
     "execution_count": 4,
     "metadata": {},
     "output_type": "execute_result"
    }
   ],
   "source": [
    "paths = glob(\"/home/aaristov/Multicell/Lena/new_data/E.coli/Timelapse/*/*/TRITC*.nd2\")\n",
    "paths"
   ]
  },
  {
   "cell_type": "code",
   "execution_count": 5,
   "id": "33bfc3ef-3464-416c-9e93-8dedee2210a0",
   "metadata": {},
   "outputs": [],
   "source": [
    "async def make_projection(nd2_path:str, axis_name:str=\"Z\", op=\"mean\"):\n",
    "    try:\n",
    "        print(nd2_path)\n",
    "        d = nd2.ND2File(nd2_path)\n",
    "        print(d.sizes) \n",
    "        axes = list(d.sizes)\n",
    "        axis = axes.index(axis_name)\n",
    "        dtype=np.uint16 if op==\"max\" else np.float32\n",
    "        proj = d.to_dask().__getattribute__(op)(axis=axis, dtype=dtype)\n",
    "        new_axes = axes.pop(axis)\n",
    "        new_sizes = {a: d.sizes[a] for a in axes}\n",
    "        print(new_sizes)\n",
    "        save_path = nd2_path.replace(\".nd2\", f\"-{op}{axis_name}.zarr\")\n",
    "        assert not os.path.exists(save_path)\n",
    "        convert.to_zarr(proj, path=save_path, steps=4, \n",
    "                        channel_axis=None, \n",
    "                        name=\"TRITC_meanZ\",\n",
    "                        sizes=new_sizes,\n",
    "                        colormap=\"green\",\n",
    "                        lut=[400,600],\n",
    "                       )\n",
    "        \n",
    "    except OSError:\n",
    "        d = None\n",
    "        print(f\"Unamble to read {nd2_path}\")\n",
    "    except AssertionError:\n",
    "        print(f\"File Exists! {save_path}\")\n"
   ]
  },
  {
   "cell_type": "code",
   "execution_count": 6,
   "id": "4d8ea70b-d2b2-4bad-8680-b9363d3736b0",
   "metadata": {},
   "outputs": [
    {
     "data": {
      "text/plain": [
       "<_GatheringFuture pending>"
      ]
     },
     "execution_count": 6,
     "metadata": {},
     "output_type": "execute_result"
    },
    {
     "name": "stdout",
     "output_type": "stream",
     "text": [
      "/home/aaristov/Multicell/Lena/new_data/E.coli/Timelapse/20230427-ecoli/set1Tetra/TRITC-3D.nd2\n",
      "{'T': 25, 'P': 2, 'Z': 25, 'Y': 6752, 'X': 21756}\n",
      "{'T': 25, 'P': 2, 'Y': 6752, 'X': 21756}\n",
      "/home/aaristov/Multicell/Lena/new_data/E.coli/Timelapse/20230427-ecoli/set1Tetra/TRITC-3D-meanZ.zarr\n",
      "(1, 1, 1688, 7252) (25, 2, 6752, 21756) 600\n",
      "saved /home/aaristov/Multicell/Lena/new_data/E.coli/Timelapse/20230427-ecoli/set1Tetra/TRITC-3D-meanZ.zarr/0\n",
      "(1, 1, 844, 3626) (25, 2, 3376, 10878) 600\n",
      "saved /home/aaristov/Multicell/Lena/new_data/E.coli/Timelapse/20230427-ecoli/set1Tetra/TRITC-3D-meanZ.zarr/1\n",
      "(2, 2, 1266, 5439) (25, 2, 1688, 5439) 26\n",
      "saved /home/aaristov/Multicell/Lena/new_data/E.coli/Timelapse/20230427-ecoli/set1Tetra/TRITC-3D-meanZ.zarr/2\n",
      "(6, 2, 844, 2720) (25, 2, 844, 2720) 5\n",
      "saved /home/aaristov/Multicell/Lena/new_data/E.coli/Timelapse/20230427-ecoli/set1Tetra/TRITC-3D-meanZ.zarr/3\n",
      "/home/aaristov/Multicell/Lena/new_data/E.coli/Timelapse/20230425-ecoli/NoAB/TRITC-3D-20min.nd2\n",
      "{'T': 16, 'P': 2, 'Z': 25, 'Y': 6752, 'X': 21756}\n",
      "{'T': 16, 'P': 2, 'Y': 6752, 'X': 21756}\n",
      "/home/aaristov/Multicell/Lena/new_data/E.coli/Timelapse/20230425-ecoli/NoAB/TRITC-3D-20min-meanZ.zarr\n",
      "(1, 1, 1688, 7252) (16, 2, 6752, 21756) 384\n",
      "saved /home/aaristov/Multicell/Lena/new_data/E.coli/Timelapse/20230425-ecoli/NoAB/TRITC-3D-20min-meanZ.zarr/0\n",
      "(1, 1, 844, 3626) (16, 2, 3376, 10878) 384\n"
     ]
    }
   ],
   "source": [
    "asyncio.gather(*[make_projection(path) for path in paths])"
   ]
  },
  {
   "cell_type": "code",
   "execution_count": null,
   "id": "4e24c1bf-149d-4529-ac4a-0aa18b4e07d0",
   "metadata": {},
   "outputs": [],
   "source": [
    "glob(\"/home/aaristov/Multicell/Lena/new_data/E.coli/Timelapse/*/*/meanZ.zarr\")"
   ]
  },
  {
   "cell_type": "code",
   "execution_count": null,
   "id": "19bfbed6-0fa3-4b97-9007-e8eaecb75e2d",
   "metadata": {},
   "outputs": [],
   "source": []
  }
 ],
 "metadata": {
  "kernelspec": {
   "display_name": "Python 3 (ipykernel)",
   "language": "python",
   "name": "python3"
  },
  "language_info": {
   "codemirror_mode": {
    "name": "ipython",
    "version": 3
   },
   "file_extension": ".py",
   "mimetype": "text/x-python",
   "name": "python",
   "nbconvert_exporter": "python",
   "pygments_lexer": "ipython3",
   "version": "3.8.10"
  }
 },
 "nbformat": 4,
 "nbformat_minor": 5
}
