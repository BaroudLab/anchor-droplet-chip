{
 "cells": [
  {
   "cell_type": "code",
   "execution_count": 28,
   "metadata": {},
   "outputs": [],
   "source": [
    "from adc import align, count\n",
    "\n",
    "import urllib3\n",
    "import shutil\n",
    "import os\n",
    "\n",
    "import matplotlib.pyplot as plt\n",
    "import yaml\n",
    "\n",
    "import tifffile as tf\n",
    "from scipy.ndimage import gaussian_filter"
   ]
  },
  {
   "cell_type": "code",
   "execution_count": 6,
   "metadata": {},
   "outputs": [],
   "source": [
    "\n",
    "def load_data(url, filename):\n",
    "\n",
    "    if not os.path.exists(filename):\n",
    "        print(f'loading {filename}')\n",
    "        c = urllib3.PoolManager()\n",
    "\n",
    "        with c.request('GET',url, preload_content=False) as resp, open(filename, 'wb') as out_file:\n",
    "            shutil.copyfileobj(resp, out_file)\n",
    "\n",
    "        resp.release_conn()\n",
    "    else:\n",
    "        print(f'{filename} already exists')\n",
    "    print(f'reading from disk {filename}')\n",
    "    return tf.imread(filename)\n",
    "\n"
   ]
  },
  {
   "cell_type": "code",
   "execution_count": 21,
   "metadata": {},
   "outputs": [
    {
     "name": "stdout",
     "output_type": "stream",
     "text": [
      "{'bf_fluo_data': {'filename': '00ng_BF_TRITC_bin2.tif', 'url': 'https://github.com/BaroudLab/anchor-droplet-chip/releases/download/v0.0.1/00ng_BF_TRITC_bin2.tif'}, 'mask2': {'filename': 'labels_bin2.tif', 'url': 'https://github.com/BaroudLab/anchor-droplet-chip/releases/download/v0.0.1/labels_bin2+100.tif'}, 'template16': {'filename': 'template_bin16_bf.tif', 'url': 'https://github.com/BaroudLab/anchor-droplet-chip/releases/download/v0.0.1/template_bin16_bf.tif'}, 'path_to_save': '00ng_aligned.tif', 'binnings': [2, 16, 2], 'constraints': {'scale': [1, 0.2], 'tx': [0, 500], 'ty': [0, 500], 'angle': [0, 30]}}\n"
     ]
    }
   ],
   "source": [
    "with open('test_data.yaml','r') as f:\n",
    "    config  = yaml.load(f, Loader=yaml.SafeLoader)\n",
    "    print (config)"
   ]
  },
  {
   "cell_type": "code",
   "execution_count": null,
   "metadata": {},
   "outputs": [],
   "source": [
    "align.align_stack()"
   ]
  },
  {
   "cell_type": "code",
   "execution_count": 22,
   "metadata": {},
   "outputs": [],
   "source": [
    "def prepare_data(key, config=config):\n",
    "    if 'url' in config[key]:\n",
    "        return load_data(**config[key])\n",
    "    else:\n",
    "        return config[key]\n"
   ]
  },
  {
   "cell_type": "code",
   "execution_count": 23,
   "metadata": {},
   "outputs": [
    {
     "name": "stdout",
     "output_type": "stream",
     "text": [
      "dataset already exists\n",
      "dataset already exists\n",
      "dataset already exists\n"
     ]
    }
   ],
   "source": [
    "data = {key: prepare_data(key) for key in config}"
   ]
  },
  {
   "cell_type": "code",
   "execution_count": 29,
   "metadata": {},
   "outputs": [],
   "source": [
    "data['template16'] = gaussian_filter(data['template16'], 2)"
   ]
  },
  {
   "cell_type": "code",
   "execution_count": 31,
   "metadata": {},
   "outputs": [
    {
     "data": {
      "text/plain": [
       "{'bf_fluo_data': array([[[13152, 13037, 13763, ..., 15475, 15343, 15634],\n",
       "         [13419, 13460, 13550, ..., 15709, 15629, 15541],\n",
       "         [12898, 13329, 13564, ..., 15487, 15213, 15218],\n",
       "         ...,\n",
       "         [    0,     0,     0, ...,     0,     0,     0],\n",
       "         [    0,     0,     0, ...,     0,     0,     0],\n",
       "         [    0,     0,     0, ...,     0,     0,     0]],\n",
       " \n",
       "        [[  411,   412,   415, ...,   418,   425,   411],\n",
       "         [  409,   425,   404, ...,   415,   412,   418],\n",
       "         [  411,   409,   428, ...,   420,   433,   428],\n",
       "         ...,\n",
       "         [    0,     0,     0, ...,     0,     0,     0],\n",
       "         [    0,     0,     0, ...,     0,     0,     0],\n",
       "         [    0,     0,     0, ...,     0,     0,     0]]], dtype=uint16),\n",
       " 'mask2': array([[0, 0, 0, ..., 0, 0, 0],\n",
       "        [0, 0, 0, ..., 0, 0, 0],\n",
       "        [0, 0, 0, ..., 0, 0, 0],\n",
       "        ...,\n",
       "        [0, 0, 0, ..., 0, 0, 0],\n",
       "        [0, 0, 0, ..., 0, 0, 0],\n",
       "        [0, 0, 0, ..., 0, 0, 0]], dtype=uint16),\n",
       " 'template16': array([[170, 170, 170, ..., 172, 172, 173],\n",
       "        [170, 170, 170, ..., 172, 172, 172],\n",
       "        [170, 170, 170, ..., 171, 172, 172],\n",
       "        ...,\n",
       "        [173, 173, 173, ..., 175, 175, 175],\n",
       "        [173, 173, 173, ..., 175, 175, 176],\n",
       "        [172, 172, 172, ..., 176, 176, 176]], dtype=uint8),\n",
       " 'path_to_save': '00ng_aligned.tif',\n",
       " 'binnings': [2, 16, 2],\n",
       " 'constraints': {'scale': [1, 0.2],\n",
       "  'tx': [0, 500],\n",
       "  'ty': [0, 500],\n",
       "  'angle': [0, 30]}}"
      ]
     },
     "execution_count": 31,
     "metadata": {},
     "output_type": "execute_result"
    }
   ],
   "source": [
    "data"
   ]
  },
  {
   "cell_type": "code",
   "execution_count": 38,
   "metadata": {},
   "outputs": [
    {
     "name": "stderr",
     "output_type": "stream",
     "text": [
      "2022-06-23 15:38:24,667 INFO : Aligned stack will be saved to 00ng_aligned.tif\n"
     ]
    },
    {
     "name": "stdout",
     "output_type": "stream",
     "text": [
      "transform (7766, 22244)\n",
      "transform (7766, 22244)\n",
      "Saved aligned stack 00ng_aligned.tif\n"
     ]
    }
   ],
   "source": [
    "aligned_stack, tvec = align.align_stack(**data)"
   ]
  },
  {
   "cell_type": "code",
   "execution_count": 39,
   "metadata": {},
   "outputs": [
    {
     "data": {
      "text/plain": [
       "{'tvec': array([3.07415370e-02, 1.86458206e+03]),\n",
       " 'success': 0.03186239709182759,\n",
       " 'angle': -1.8212399539050352,\n",
       " 'scale': 0.9967318370772736,\n",
       " 'Dscale': 0.00048305064097878487,\n",
       " 'Dangle': 0.013485166317051244,\n",
       " 'Dt': 0.25,\n",
       " 'timg': None}"
      ]
     },
     "execution_count": 39,
     "metadata": {},
     "output_type": "execute_result"
    }
   ],
   "source": [
    "tvec"
   ]
  },
  {
   "cell_type": "code",
   "execution_count": 32,
   "metadata": {},
   "outputs": [],
   "source": [
    "import json"
   ]
  },
  {
   "cell_type": "code",
   "execution_count": 34,
   "metadata": {},
   "outputs": [],
   "source": [
    "tvec['tvec'] = list(tvec['tvec'])"
   ]
  },
  {
   "cell_type": "code",
   "execution_count": 36,
   "metadata": {},
   "outputs": [
    {
     "data": {
      "text/plain": [
       "'[{\"tvec\": [0.030741536959794757, 1864.5820629757582], \"success\": 0.03186239709182759, \"angle\": -1.8212399539050352, \"scale\": 0.9967318370772736, \"Dscale\": 0.00048305064097878487, \"Dangle\": 0.013485166317051244, \"Dt\": 0.25, \"timg\": null}, {\"tvec\": [0.030741536959794757, 1864.5820629757582], \"success\": 0.03186239709182759, \"angle\": -1.8212399539050352, \"scale\": 0.9967318370772736, \"Dscale\": 0.00048305064097878487, \"Dangle\": 0.013485166317051244, \"Dt\": 0.25, \"timg\": null}]'"
      ]
     },
     "execution_count": 36,
     "metadata": {},
     "output_type": "execute_result"
    }
   ],
   "source": [
    "json.dumps([tvec,tvec])"
   ]
  },
  {
   "cell_type": "code",
   "execution_count": null,
   "metadata": {},
   "outputs": [],
   "source": [
    "def prep_tvec(transform_dict):\n",
    "    t = transform_dict.copy()\n",
    "    t[\"tvec\"] = list(t[\"tvec\"])\n",
    "    return t\n",
    "\n",
    "def save_tvecs(tvecs, path):\n",
    "    try:\n",
    "        transform_data = [map(prep_tvec, tvecs)]\n",
    "        with open(path, 'w') as f:\n",
    "            json.dump(transform_data, fp=f)\n",
    "    except Exception as e:\n",
    "        print('saving transform json failed: ', e.args)\n",
    "\n",
    "save_tvecs([tvec,tvec], \"test.json\")"
   ]
  }
 ],
 "metadata": {
  "interpreter": {
   "hash": "c6792cc9a88834ff6b18506f67a4cda3e9b05e1dbee9ac6edb151d8a7b39a7c5"
  },
  "kernelspec": {
   "display_name": "Python 3.8.10 ('venv': venv)",
   "language": "python",
   "name": "python3"
  },
  "language_info": {
   "codemirror_mode": {
    "name": "ipython",
    "version": 3
   },
   "file_extension": ".py",
   "mimetype": "text/x-python",
   "name": "python",
   "nbconvert_exporter": "python",
   "pygments_lexer": "ipython3",
   "version": "3.8.10"
  },
  "orig_nbformat": 4
 },
 "nbformat": 4,
 "nbformat_minor": 2
}
