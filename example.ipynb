{
 "cells": [
  {
   "cell_type": "code",
   "execution_count": 26,
   "metadata": {},
   "outputs": [],
   "source": [
    "from adc import align, count\n",
    "from functools import partial\n",
    "\n",
    "import urllib3\n",
    "import shutil\n",
    "import os\n",
    "\n",
    "import matplotlib.pyplot as plt\n",
    "import yaml\n",
    "\n",
    "import tifffile as tf\n",
    "from scipy.ndimage import gaussian_filter"
   ]
  },
  {
   "cell_type": "code",
   "execution_count": 27,
   "metadata": {},
   "outputs": [],
   "source": [
    "\n",
    "def load_data(url, filename):\n",
    "\n",
    "    if not os.path.exists(filename):\n",
    "        print(f'loading {filename}')\n",
    "        c = urllib3.PoolManager()\n",
    "\n",
    "        with c.request('GET',url, preload_content=False) as resp, open(filename, 'wb') as out_file:\n",
    "            shutil.copyfileobj(resp, out_file)\n",
    "\n",
    "        resp.release_conn()\n",
    "    else:\n",
    "        print(f'{filename} already exists')\n",
    "    print(f'reading from disk {filename}')\n",
    "    return tf.imread(filename)\n",
    "\n",
    "\n",
    "def process_urls(key, config):\n",
    "    if 'url' in config[key]:\n",
    "        return load_data(**config[key])\n",
    "    else:\n",
    "        return config[key]\n",
    "\n",
    "def load_dataset(path):\n",
    "    with open(path,'r') as f:\n",
    "        config  = yaml.load(f, Loader=yaml.SafeLoader)\n",
    "        print (config)\n",
    "\n",
    "    return {key: process_urls(key, config) for key in config}\n",
    "     "
   ]
  },
  {
   "cell_type": "code",
   "execution_count": 28,
   "metadata": {},
   "outputs": [
    {
     "name": "stdout",
     "output_type": "stream",
     "text": [
      "{'data': {'filename': '00ng_BF_TRITC_bin2.tif', 'url': 'https://github.com/BaroudLab/anchor-droplet-chip/releases/download/v0.0.1/00ng_BF_TRITC_bin2.tif'}, 'mask2': {'filename': 'labels_bin2.tif', 'url': 'https://github.com/BaroudLab/anchor-droplet-chip/releases/download/v0.0.1/labels_bin2+100.tif'}, 'template16': {'filename': 'template_bin16_bf.tif', 'url': 'https://github.com/BaroudLab/anchor-droplet-chip/releases/download/v0.0.1/template_bin16_bf.tif'}, 'path_to_save': '00ng_aligned.tif', 'binnings': [2, 16, 2], 'constraints': {'scale': [1, 0.2], 'tx': [0, 500], 'ty': [0, 50], 'angle': [0, 30]}}\n",
      "00ng_BF_TRITC_bin2.tif already exists\n",
      "reading from disk 00ng_BF_TRITC_bin2.tif\n",
      "labels_bin2.tif already exists\n",
      "reading from disk labels_bin2.tif\n",
      "template_bin16_bf.tif already exists\n",
      "reading from disk template_bin16_bf.tif\n",
      "{'data': {'filename': '00ng_BF_TRITC_bin2-24h.tif', 'url': 'https://github.com/BaroudLab/anchor-droplet-chip/releases/download/v0.0.1/00ng_BF_TRITC_bin2-24h.tif'}, 'mask2': {'filename': 'labels_bin2.tif', 'url': 'https://github.com/BaroudLab/anchor-droplet-chip/releases/download/v0.0.1/labels_bin2+100.tif'}, 'template16': {'filename': 'template_bin16_bf.tif', 'url': 'https://github.com/BaroudLab/anchor-droplet-chip/releases/download/v0.0.1/template_bin16_bf.tif'}, 'path_to_save': '00ng_aligned_24h.tif', 'binnings': [2, 16, 2], 'constraints': {'scale': [1, 0.2], 'tx': [0, 500], 'ty': [0, 50], 'angle': [0, 30]}}\n",
      "00ng_BF_TRITC_bin2-24h.tif already exists\n",
      "reading from disk 00ng_BF_TRITC_bin2-24h.tif\n",
      "labels_bin2.tif already exists\n",
      "reading from disk labels_bin2.tif\n",
      "template_bin16_bf.tif already exists\n",
      "reading from disk template_bin16_bf.tif\n"
     ]
    }
   ],
   "source": [
    "data_0h = load_dataset('test_data_0h.yaml')\n",
    "data_24h = load_dataset('test_data_24h.yaml')\n"
   ]
  },
  {
   "cell_type": "code",
   "execution_count": 29,
   "metadata": {},
   "outputs": [
    {
     "name": "stderr",
     "output_type": "stream",
     "text": [
      "INFO:adc.align:Aligned stack will be saved to 00ng_aligned.tif\n",
      "DEBUG:adc.align:stack_temp_scale: 8\n",
      "DEBUG:adc.align:mask_temp_scale: 8\n",
      "DEBUG:adc.align:stack_mask_scale: 1\n",
      "DEBUG:matplotlib.pyplot:Loaded backend module://matplotlib_inline.backend_inline version unknown.\n",
      "DEBUG:matplotlib.pyplot:Loaded backend module://matplotlib_inline.backend_inline version unknown.\n",
      "DEBUG:adc.align:{'tvec': array([-72.90446243, -41.79975179]), 'success': 0.03136908135246553, 'angle': -1.8180668532694426, 'scale': 0.9968245702988792, 'Dscale': 0.00048309558269778115, 'Dangle': 0.013485166317051244, 'Dt': 0.25, 'timg': None}\n"
     ]
    },
    {
     "name": "stdout",
     "output_type": "stream",
     "text": [
      "transform (7766, 22244)\n",
      "transform (7766, 22244)\n"
     ]
    },
    {
     "name": "stderr",
     "output_type": "stream",
     "text": [
      "INFO:adc.align:Aligned stack will be saved to 00ng_aligned_24h.tif\n",
      "DEBUG:adc.align:stack_temp_scale: 8\n",
      "DEBUG:adc.align:mask_temp_scale: 8\n",
      "DEBUG:adc.align:stack_mask_scale: 1\n"
     ]
    },
    {
     "name": "stdout",
     "output_type": "stream",
     "text": [
      "Saved aligned stack 00ng_aligned.tif\n"
     ]
    },
    {
     "name": "stderr",
     "output_type": "stream",
     "text": [
      "DEBUG:adc.align:{'tvec': array([-127.13536181, -289.16844181]), 'success': 0.019668815978345983, 'angle': -1.6575359581991336, 'scale': 0.9967044257967492, 'Dscale': 0.0004751902139199292, 'Dangle': 0.013477088948787063, 'Dt': 0.25, 'timg': None}\n"
     ]
    },
    {
     "name": "stdout",
     "output_type": "stream",
     "text": [
      "transform (7019, 22259)\n",
      "transform (7019, 22259)\n",
      "Saved aligned stack 00ng_aligned_24h.tif\n"
     ]
    }
   ],
   "source": [
    "aligned_stack_0h, tvec_0h = align.align_stack(**data_0h)\n",
    "aligned_stack_24h, tvec_0h = align.align_stack(**data_24h)\n"
   ]
  }
 ],
 "metadata": {
  "interpreter": {
   "hash": "c6792cc9a88834ff6b18506f67a4cda3e9b05e1dbee9ac6edb151d8a7b39a7c5"
  },
  "kernelspec": {
   "display_name": "Python 3.8.10 ('venv': venv)",
   "language": "python",
   "name": "python3"
  },
  "language_info": {
   "codemirror_mode": {
    "name": "ipython",
    "version": 3
   },
   "file_extension": ".py",
   "mimetype": "text/x-python",
   "name": "python",
   "nbconvert_exporter": "python",
   "pygments_lexer": "ipython3",
   "version": "3.8.10"
  },
  "orig_nbformat": 4
 },
 "nbformat": 4,
 "nbformat_minor": 2
}
