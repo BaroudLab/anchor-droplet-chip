{
 "cells": [
  {
   "cell_type": "code",
   "execution_count": null,
   "metadata": {},
   "outputs": [],
   "source": [
    "from adc import align, count\n",
    "from functools import partial\n",
    "from importlib.metadata import version\n",
    "import urllib3\n",
    "import shutil\n",
    "import os\n",
    "\n",
    "import matplotlib.pyplot as plt\n",
    "import yaml\n",
    "\n",
    "import tifffile as tf\n",
    "from scipy.ndimage import gaussian_filter"
   ]
  },
  {
   "cell_type": "code",
   "execution_count": null,
   "metadata": {},
   "outputs": [],
   "source": [
    "__version__ = version('anchor-droplet-chip')\n",
    "__version__"
   ]
  },
  {
   "cell_type": "code",
   "execution_count": null,
   "metadata": {},
   "outputs": [],
   "source": [
    "\n",
    "def load_data(url, filename):\n",
    "\n",
    "    if not os.path.exists(filename):\n",
    "        print(f'loading {filename}')\n",
    "        c = urllib3.PoolManager()\n",
    "\n",
    "        with c.request('GET',url, preload_content=False) as resp, open(filename, 'wb') as out_file:\n",
    "            shutil.copyfileobj(resp, out_file)\n",
    "\n",
    "        resp.release_conn()\n",
    "    else:\n",
    "        print(f'{filename} already exists')\n",
    "    print(f'reading from disk {filename}')\n",
    "    return tf.imread(filename)\n",
    "\n",
    "\n",
    "def process_urls(key, config):\n",
    "    if 'url' in config[key]:\n",
    "        return load_data(**config[key])\n",
    "    else:\n",
    "        return config[key]\n",
    "\n",
    "def load_dataset(path):\n",
    "    with open(path,'r') as f:\n",
    "        config  = yaml.load(f, Loader=yaml.SafeLoader)\n",
    "        print (config)\n",
    "\n",
    "    return {key: process_urls(key, config) for key in config}\n",
    "     "
   ]
  },
  {
   "cell_type": "code",
   "execution_count": null,
   "metadata": {},
   "outputs": [],
   "source": [
    "data_0h = load_dataset('test_data_0h.yaml')\n",
    "data_24h = load_dataset('test_data_24h.yaml')\n"
   ]
  },
  {
   "cell_type": "code",
   "execution_count": null,
   "metadata": {},
   "outputs": [],
   "source": [
    "aligned_stack_0h, tvec_0h = align.align_stack(**data_0h)\n",
    "aligned_stack_24h, tvec_0h = align.align_stack(**data_24h)\n"
   ]
  },
  {
   "cell_type": "code",
   "execution_count": null,
   "metadata": {},
   "outputs": [],
   "source": []
  }
 ],
 "metadata": {
  "interpreter": {
   "hash": "c6792cc9a88834ff6b18506f67a4cda3e9b05e1dbee9ac6edb151d8a7b39a7c5"
  },
  "kernelspec": {
   "display_name": "Python 3 (ipykernel)",
   "language": "python",
   "name": "python3"
  },
  "language_info": {
   "codemirror_mode": {
    "name": "ipython",
    "version": 3
   },
   "file_extension": ".py",
   "mimetype": "text/x-python",
   "name": "python",
   "nbconvert_exporter": "python",
   "pygments_lexer": "ipython3",
   "version": "3.8.10"
  }
 },
 "nbformat": 4,
 "nbformat_minor": 4
}
