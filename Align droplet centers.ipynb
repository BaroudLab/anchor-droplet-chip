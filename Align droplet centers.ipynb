{
 "cells": [
  {
   "cell_type": "code",
   "execution_count": 1,
   "id": "50bfc5d8-0c5b-4b45-932e-28a1d65ce73e",
   "metadata": {},
   "outputs": [],
   "source": [
    "from adc import align\n",
    "import pandas as pd\n",
    "import sys\n",
    "import tifffile as tf\n",
    "import dask.array as da\n",
    "import numpy as np\n",
    "import napari\n",
    "from multiprocessing import Pool"
   ]
  },
  {
   "cell_type": "code",
   "execution_count": 2,
   "id": "f5ba13d1-0af1-4e98-b987-8462c17cfb09",
   "metadata": {},
   "outputs": [],
   "source": [
    "centers = pd.read_csv('/home/aaristov/Anchor/Lena/Data/E.coli/Ciprofloxacin/20220526-MIC-e.coli-cipro/10cells/centers_bin16.csv')"
   ]
  },
  {
   "cell_type": "code",
   "execution_count": 3,
   "id": "48596247-0208-4521-b388-27f1f7d92e23",
   "metadata": {},
   "outputs": [],
   "source": [
    "template_bin16, mask_bin16 = tf.imread('/home/aaristov/Anchor/Lena/Data/E.coli/Ciprofloxacin/20220526-MIC-e.coli-cipro/10cells/bf_labels_bin16_v3.tif')"
   ]
  },
  {
   "cell_type": "code",
   "execution_count": 4,
   "id": "107df8c0-cb3a-437b-92a9-b734362be4ea",
   "metadata": {},
   "outputs": [],
   "source": [
    "data_bin16 = da.from_zarr('/home/aaristov/Anchor/Lena/Data/E.coli/Ciprofloxacin/20220526-MIC-e.coli-cipro/10cells/day1/BF_TRITC_maxZ.zarr/3/')"
   ]
  },
  {
   "cell_type": "code",
   "execution_count": 5,
   "id": "bf4b6c6d-ac81-44b6-830a-98a6ae90daec",
   "metadata": {},
   "outputs": [],
   "source": [
    "data_bin2 = da.from_zarr('/home/aaristov/Anchor/Lena/Data/E.coli/Ciprofloxacin/20220526-MIC-e.coli-cipro/10cells/day1/BF_TRITC_maxZ.zarr/0/')"
   ]
  },
  {
   "cell_type": "code",
   "execution_count": 6,
   "id": "99f7d825-5410-4c05-8883-640333441f22",
   "metadata": {},
   "outputs": [],
   "source": [
    "bf = data_bin16[4,0].compute()"
   ]
  },
  {
   "cell_type": "code",
   "execution_count": 7,
   "id": "23be5068-1523-4ee2-b92d-4e993a502783",
   "metadata": {},
   "outputs": [
    {
     "data": {
      "text/plain": [
       "((18, 18), (22, 22))"
      ]
     },
     "execution_count": 7,
     "metadata": {},
     "output_type": "execute_result"
    }
   ],
   "source": [
    "align.calculate_padding(template_bin16.shape, bf.shape)"
   ]
  },
  {
   "cell_type": "code",
   "execution_count": 49,
   "id": "a91e9139-e19d-49ee-a391-0bc920e866df",
   "metadata": {},
   "outputs": [
    {
     "name": "stdout",
     "output_type": "stream",
     "text": [
      "CPU times: user 6.25 s, sys: 1.19 s, total: 7.44 s\n",
      "Wall time: 7.44 s\n"
     ]
    }
   ],
   "source": [
    "%%time \n",
    "tvec_bin16 = align.reg.similarity(align.pad(template_bin16, bf.shape), bf, constraints=align.CONSTRAINTS)"
   ]
  },
  {
   "cell_type": "raw",
   "id": "89eaf2bc-a04a-4ae2-8f7d-c3b6f35c6b40",
   "metadata": {},
   "source": [
    "%%time \n",
    "tvec_bin16 = align.reg.similarity(align.pad(template_bin16, bf.shape), bf, constraints=align.CONSTRAINTS, transform_original=True)"
   ]
  },
  {
   "cell_type": "code",
   "execution_count": 51,
   "id": "b009576d-1b9f-4ff4-b66e-a4889fb96239",
   "metadata": {},
   "outputs": [
    {
     "data": {
      "text/plain": [
       "{'tvec': array([-3.48556473, 10.7352447 ]),\n",
       " 'success': 0.053013983869245856,\n",
       " 'angle': -2.498352469932371,\n",
       " 'scale': 1.0005251686341115,\n",
       " 'Dscale': 0.0005542525572911843,\n",
       " 'Dangle': 0.01596877217885025,\n",
       " 'Dt': 0.25,\n",
       " 'timg': array([[21841.04753565, 21840.49966364, 21840.0966692 , ...,\n",
       "         21843.83983972, 21842.67423951, 21841.76135565],\n",
       "        [21841.09616634, 21840.60920702, 21840.25732524, ...,\n",
       "         21843.57776352, 21842.55235012, 21841.73610763],\n",
       "        [21841.107017  , 21840.68982185, 21840.39515843, ...,\n",
       "         21843.24704731, 21842.36894809, 21841.66141204],\n",
       "        ...,\n",
       "        [21840.51938268, 21839.89775951, 21839.41617551, ...,\n",
       "         21844.44981844, 21841.91744543, 21841.42925704],\n",
       "        [21840.77309128, 21840.1527761 , 21839.68149688, ...,\n",
       "         21844.64189466, 21842.31339231, 21841.65016562],\n",
       "        [21840.94515608, 21840.35092941, 21839.90684984, ...,\n",
       "         21845.92695882, 21841.99155267, 21841.95560514]])}"
      ]
     },
     "execution_count": 51,
     "metadata": {},
     "output_type": "execute_result"
    }
   ],
   "source": [
    "tvec_bin16"
   ]
  },
  {
   "cell_type": "code",
   "execution_count": 8,
   "id": "a7ffb33d-056e-4f44-8b2b-1c95f4bd3dc4",
   "metadata": {},
   "outputs": [],
   "source": [
    "def rot(vec:np.ndarray, angle_deg:float, canvas_shape=(0,0)):\n",
    "    theta = angle_deg / 180. * np.pi\n",
    "    pivot = np.array(canvas_shape) / 2.\n",
    "        \n",
    "    c = np.cos(theta)\n",
    "    s = np.sin(theta)\n",
    "    mat = np.array([[c, -s], [s,c]])\n",
    "    \n",
    "    return np.dot(vec - pivot, mat) + pivot\n",
    "\n",
    "def trans(vec:np.ndarray, tr_vec:np.ndarray):\n",
    "    return vec + tr_vec"
   ]
  },
  {
   "cell_type": "code",
   "execution_count": 9,
   "id": "4964ee75-2436-4120-bae6-1a58336164c7",
   "metadata": {},
   "outputs": [],
   "source": [
    "yx = centers[[\"y\",\"x\"]].values"
   ]
  },
  {
   "cell_type": "code",
   "execution_count": 10,
   "id": "c34a9daf-3dc1-4305-9cda-96d38d302f0c",
   "metadata": {},
   "outputs": [],
   "source": [
    "ccenters  = yx - np.array(template_bin16.shape) / 2."
   ]
  },
  {
   "cell_type": "code",
   "execution_count": 11,
   "id": "2a8521cb-9a98-4b17-89a6-8d6faf3ee6b3",
   "metadata": {
    "tags": []
   },
   "outputs": [],
   "source": [
    "def move_centers(centers, tvec:dict, figure_size):\n",
    "    return rot(\n",
    "        centers / tvec[\"scale\"] ,\n",
    "        tvec[\"angle\"],\n",
    "    ) - tvec[\"tvec\"] + np.array(figure_size) / 2."
   ]
  },
  {
   "cell_type": "code",
   "execution_count": 12,
   "id": "824f0e2d-1990-44c4-83fe-78d94a44a6c2",
   "metadata": {},
   "outputs": [
    {
     "data": {
      "text/plain": [
       "{'scale': [1, 0.2], 'tx': [0, 50], 'ty': [0, 50], 'angle': [0, 30]}"
      ]
     },
     "execution_count": 12,
     "metadata": {},
     "output_type": "execute_result"
    }
   ],
   "source": [
    "align.CONSTRAINTS"
   ]
  },
  {
   "cell_type": "code",
   "execution_count": 13,
   "id": "049ba47c-76c2-4c94-b240-97f17c2579f4",
   "metadata": {},
   "outputs": [],
   "source": [
    "def locate_wells(bf, template, ccenters):\n",
    "    tvec = align.reg.similarity(align.pad(template, bf.shape), bf, constraints={'scale': [1, 0.1], 'tx': [0, 50], 'ty': [0, 50], 'angle': [0, 3]})  \n",
    "    print(tvec)\n",
    "    return move_centers(ccenters, tvec, bf.shape)"
   ]
  },
  {
   "cell_type": "code",
   "execution_count": 15,
   "id": "9661da71-5edf-48e5-b272-a2bbb60dd93b",
   "metadata": {},
   "outputs": [],
   "source": [
    "bf_data = data_bin16[:,0].compute()"
   ]
  },
  {
   "cell_type": "code",
   "execution_count": 16,
   "id": "5c353ad4-63ec-44e5-a686-b089cab652f3",
   "metadata": {},
   "outputs": [
    {
     "name": "stdout",
     "output_type": "stream",
     "text": [
      "{'tvec': array([ 7.41521828, -5.01025831]), 'success': 0.9492813713032735, 'angle': 0.3250219589967003, 'scale': 1.000010029846673, 'Dscale': 0.0005539671901667496, 'Dangle': 0.01596877217885025, 'Dt': 0.25}\n",
      "{'tvec': array([15.19319745, 12.73440021]), 'success': 0.03744237556702879, 'angle': 0.3009538165028687, 'scale': 1.000338782849441, 'Dscale': 0.0005541493067173508, 'Dangle': 0.01596877217885025, 'Dt': 0.25}\n",
      "{'tvec': array([ 20.73566667, -10.33345991]), 'success': 0.05417756398257824, 'angle': -0.007623382186125127, 'scale': 1.0013273253291166, 'Dscale': 0.0005546969213246866, 'Dangle': 0.01596877217885025, 'Dt': 0.25}\n",
      "{'tvec': array([-3.477736  , 10.72915502]), 'success': 0.05280478933289002, 'angle': -2.4952416737408782, 'scale': 1.0005264830720422, 'Dscale': 0.0005542532854393682, 'Dangle': 0.01596877217885025, 'Dt': 0.25}\n",
      "{'tvec': array([ 22.26023391, -14.98781366]), 'success': 0.044481804667993695, 'angle': 0.7751750895648968, 'scale': 1.0006719708254652, 'Dscale': 0.0005543338800729838, 'Dangle': 0.01596877217885025, 'Dt': 0.25}\n",
      "{'tvec': array([-11.76104337, -14.51814202]), 'success': 0.02196416616390992, 'angle': 1.5762691585687207, 'scale': 0.9984886430741637, 'Dscale': 0.0005531244002642793, 'Dangle': 0.01596877217885025, 'Dt': 0.25}\n",
      "CPU times: user 41.8 ms, sys: 31.9 ms, total: 73.7 ms\n",
      "Wall time: 8.14 s\n"
     ]
    }
   ],
   "source": [
    "%%time\n",
    "def func(bf):\n",
    "    return locate_wells(bf, template_bin16, ccenters)\n",
    "\n",
    "p = Pool(6)\n",
    "try:\n",
    "    centers16 = p.map(func, bf_data)\n",
    "except Exception as e:\n",
    "    print(e)\n",
    "finally:\n",
    "    p.close()"
   ]
  },
  {
   "cell_type": "code",
   "execution_count": 17,
   "id": "efb9b818-a957-458f-9e7c-9bcbfa066e2e",
   "metadata": {},
   "outputs": [],
   "source": [
    "def add_new_dim(centers, value):\n",
    "    return np.concatenate((np.ones((len(centers),1)) * value, centers), axis=1)"
   ]
  },
  {
   "cell_type": "code",
   "execution_count": 18,
   "id": "515eb2fa-f2fb-4077-9497-dafa3cdebc10",
   "metadata": {},
   "outputs": [],
   "source": [
    "sample = np.concatenate([add_new_dim(c*8, i) for i,c in enumerate(centers16)])"
   ]
  },
  {
   "cell_type": "code",
   "execution_count": 19,
   "id": "c27ca9c9-16ce-40c4-9483-32d0fbade30f",
   "metadata": {},
   "outputs": [],
   "source": [
    "v = napari.Viewer()"
   ]
  },
  {
   "cell_type": "code",
   "execution_count": 20,
   "id": "b7f7db7f-5770-431d-9628-744b34fafae4",
   "metadata": {
    "tags": []
   },
   "outputs": [
    {
     "data": {
      "text/plain": [
       "<Points layer 'sample' at 0x7f51503f32e0>"
      ]
     },
     "execution_count": 20,
     "metadata": {},
     "output_type": "execute_result"
    },
    {
     "name": "stdout",
     "output_type": "stream",
     "text": [
      "reading /home/aaristov/Anchor/Lena/Data/E.coli/Ciprofloxacin/20220526-MIC-e.coli-cipro/10cells/day1/BF_TRITC_maxZ.zarr\n",
      "found channel axis 1\n"
     ]
    }
   ],
   "source": [
    "v.add_points(sample\n",
    "        , size=300, face_color=\"#00000000\", edge_color=\"#88000088\")"
   ]
  },
  {
   "cell_type": "code",
   "execution_count": 21,
   "id": "3c918ff2-038b-46a4-8aaa-3f597bb8a89c",
   "metadata": {},
   "outputs": [],
   "source": [
    "pd.DataFrame(sample, columns=('sample', 'y', 'x')).to_csv('/home/aaristov/Anchor/Lena/Data/E.coli/Ciprofloxacin/20220526-MIC-e.coli-cipro/10cells/day1/BF_TRITC_maxZ.zarr/.centers.csv', index='sample')"
   ]
  },
  {
   "cell_type": "code",
   "execution_count": 79,
   "id": "01027c8f-a2ca-4f9d-bad7-cebd77b012df",
   "metadata": {},
   "outputs": [
    {
     "data": {
      "text/plain": [
       "<Points layer 'Points [1]' at 0x7f50af356d90>"
      ]
     },
     "execution_count": 79,
     "metadata": {},
     "output_type": "execute_result"
    }
   ],
   "source": [
    "v.add_points(move_centers(ccenters, tvec_bin16, bf.shape) * 8, size=100)"
   ]
  },
  {
   "cell_type": "code",
   "execution_count": 62,
   "id": "ad5e8e72-ef06-4a39-8148-a0462238e15a",
   "metadata": {},
   "outputs": [
    {
     "data": {
      "text/plain": [
       "<Points layer 'yx' at 0x7f50af11d280>"
      ]
     },
     "execution_count": 62,
     "metadata": {},
     "output_type": "execute_result"
    }
   ],
   "source": [
    "v.add_points(yx)"
   ]
  },
  {
   "cell_type": "code",
   "execution_count": 17,
   "id": "238693b3-27ab-4b6f-a165-20afa7323056",
   "metadata": {},
   "outputs": [
    {
     "data": {
      "text/plain": [
       "<Image layer 'Image' at 0x7f50afff2310>"
      ]
     },
     "execution_count": 17,
     "metadata": {},
     "output_type": "execute_result"
    }
   ],
   "source": [
    "v.add_image(tvec_bin16[\"timg\"])"
   ]
  },
  {
   "cell_type": "code",
   "execution_count": 44,
   "id": "ae21edd4-82f9-4f86-a1c0-38923aea28b9",
   "metadata": {
    "tags": []
   },
   "outputs": [
    {
     "data": {
      "text/plain": [
       "<Image layer 'bf' at 0x7f50a4ba1af0>"
      ]
     },
     "execution_count": 44,
     "metadata": {},
     "output_type": "execute_result"
    }
   ],
   "source": [
    "v.add_image(bf)"
   ]
  },
  {
   "cell_type": "code",
   "execution_count": 77,
   "id": "4a96cc75-d033-4b89-ad1b-439e5d5f2c77",
   "metadata": {},
   "outputs": [
    {
     "data": {
      "text/plain": [
       "<Image layer 'Image' at 0x7f5075e42e80>"
      ]
     },
     "execution_count": 77,
     "metadata": {},
     "output_type": "execute_result"
    }
   ],
   "source": [
    "path = '/home/aaristov/Anchor/Lena/Data/E.coli/Ciprofloxacin/20220526-MIC-e.coli-cipro/10cells/day1/BF_TRITC_maxZ.zarr/{}/'\n",
    "v.add_image([da.from_zarr(path.format(i)) for i in range(4)])\n",
    "\n"
   ]
  },
  {
   "cell_type": "code",
   "execution_count": 63,
   "id": "998d6557-8249-4ffc-a3e5-b27494618f1d",
   "metadata": {},
   "outputs": [
    {
     "data": {
      "text/plain": [
       "<Image layer 'transformed' at 0x7f50af2c9730>"
      ]
     },
     "execution_count": 63,
     "metadata": {},
     "output_type": "execute_result"
    }
   ],
   "source": [
    "v.add_image(tvec_bin16[\"timg\"], name='transformed')"
   ]
  },
  {
   "cell_type": "code",
   "execution_count": null,
   "id": "61d10564-83e5-4631-aa1e-f2d04f462b91",
   "metadata": {},
   "outputs": [],
   "source": []
  }
 ],
 "metadata": {
  "kernelspec": {
   "display_name": "Python 3 (ipykernel)",
   "language": "python",
   "name": "python3"
  },
  "language_info": {
   "codemirror_mode": {
    "name": "ipython",
    "version": 3
   },
   "file_extension": ".py",
   "mimetype": "text/x-python",
   "name": "python",
   "nbconvert_exporter": "python",
   "pygments_lexer": "ipython3",
   "version": "3.8.10"
  }
 },
 "nbformat": 4,
 "nbformat_minor": 5
}
