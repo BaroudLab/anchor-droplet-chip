{
 "cells": [
  {
   "cell_type": "code",
   "execution_count": null,
   "id": "8027608b-7e48-40c2-a68e-843020e820f5",
   "metadata": {},
   "outputs": [],
   "source": [
    "from napari import Viewer\n",
    "import nd2\n",
    "from zarr_tools import convert\n",
    "from napari_segment._widget import SegmentStack\n",
    "import dask.array as da\n",
    "import tifffile as tf"
   ]
  },
  {
   "cell_type": "code",
   "execution_count": null,
   "id": "1eaf07d7-4dc8-4a4d-8b7f-49e454d4cffa",
   "metadata": {},
   "outputs": [],
   "source": [
    "data = nd2.ND2File(\"C:/Users/stage/Downloads/LPYgalvstet.nd2\")"
   ]
  },
  {
   "cell_type": "code",
   "execution_count": null,
   "id": "f0d46972-c5ad-4fed-8ea8-297e920adcb8",
   "metadata": {},
   "outputs": [],
   "source": [
    "data"
   ]
  },
  {
   "cell_type": "code",
   "execution_count": null,
   "id": "d310a165-f102-408d-8813-82751cb3e501",
   "metadata": {},
   "outputs": [],
   "source": [
    "chip1 = data.to_dask()[:,0,0]"
   ]
  },
  {
   "cell_type": "code",
   "execution_count": null,
   "id": "f2d590a1-2554-48b6-a70d-0e3b1ecd0a72",
   "metadata": {},
   "outputs": [],
   "source": [
    "v = Viewer()"
   ]
  },
  {
   "cell_type": "code",
   "execution_count": null,
   "id": "3711f8d0-c74e-426c-9a1a-a32b87bb2f50",
   "metadata": {},
   "outputs": [],
   "source": [
    "s = SegmentStack(v)"
   ]
  },
  {
   "cell_type": "code",
   "execution_count": null,
   "id": "06cc67db-ae65-4c65-814a-b67213244690",
   "metadata": {},
   "outputs": [],
   "source": [
    "v.window.add_dock_widget(s)"
   ]
  },
  {
   "cell_type": "code",
   "execution_count": null,
   "id": "7bab6cdf-6848-4b5b-a273-f1240353d093",
   "metadata": {},
   "outputs": [],
   "source": [
    "s.ddata"
   ]
  },
  {
   "cell_type": "code",
   "execution_count": null,
   "id": "efd793d8-de79-4c91-945e-2b25c658c217",
   "metadata": {},
   "outputs": [],
   "source": [
    "v.add_image(chip1)"
   ]
  },
  {
   "cell_type": "code",
   "execution_count": null,
   "id": "e7f25cdd-e112-4c38-80ad-60f78d5832fe",
   "metadata": {},
   "outputs": [],
   "source": [
    "crops = v.layers[0].data.rechunk()\n",
    "crops"
   ]
  },
  {
   "cell_type": "code",
   "execution_count": null,
   "id": "56addd0d-dd16-486f-8ef8-3eda12b5a814",
   "metadata": {},
   "outputs": [],
   "source": [
    "convert.to_zarr(crops, \"C:/Users/stage/Downloads/LPYgalvstet_chip1_good.zarr\", channel_axis=2, steps=1, name=['BF','GFP'], colormap=[\"gray\",\"green\"])"
   ]
  },
  {
   "cell_type": "code",
   "execution_count": null,
   "id": "f6690529-f14f-403d-a63f-27356da74040",
   "metadata": {
    "tags": []
   },
   "outputs": [],
   "source": [
    "!pip install napari-segment==0.3.6"
   ]
  },
  {
   "cell_type": "code",
   "execution_count": null,
   "id": "009a685e-6ec2-4001-9028-16e3d7e7f5c0",
   "metadata": {},
   "outputs": [],
   "source": [
    "crops = da.from_zarr(\"C:/Users/stage/Downloads/LPYgalvstet_chip1_good.zarr/0/\")"
   ]
  },
  {
   "cell_type": "code",
   "execution_count": null,
   "id": "5adf8aae-8781-4c19-90ac-40e15d0bedac",
   "metadata": {},
   "outputs": [],
   "source": [
    "\n",
    "crops"
   ]
  },
  {
   "cell_type": "code",
   "execution_count": null,
   "id": "2a3754b4-3475-44e4-a9ef-0ba3f29ee70f",
   "metadata": {},
   "outputs": [],
   "source": [
    "[tf.imwrite(f\"C:/Users/stage/Downloads/LPYgalvstet_chip1_good_tif/pos{i:02d}.tif\", crops[:,i].reshape((46,1,2, 600, 600)), imagej=True) for i in range(crops.shape[1])]"
   ]
  },
  {
   "cell_type": "code",
   "execution_count": null,
   "id": "a659dcc0-65b0-438d-b5dc-6d39f76f9747",
   "metadata": {},
   "outputs": [],
   "source": []
  }
 ],
 "metadata": {
  "kernelspec": {
   "display_name": "Python 3 (ipykernel)",
   "language": "python",
   "name": "python3"
  },
  "language_info": {
   "codemirror_mode": {
    "name": "ipython",
    "version": 3
   },
   "file_extension": ".py",
   "mimetype": "text/x-python",
   "name": "python",
   "nbconvert_exporter": "python",
   "pygments_lexer": "ipython3",
   "version": "3.9.13"
  }
 },
 "nbformat": 4,
 "nbformat_minor": 5
}
